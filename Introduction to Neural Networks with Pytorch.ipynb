{
 "cells": [
  {
   "cell_type": "code",
   "execution_count": 27,
   "id": "2e94975e",
   "metadata": {},
   "outputs": [],
   "source": [
    "import numpy as np     #numpy to load dataset\n",
    "import torch\n",
    "import torch.nn as nn  #layer implementations\n",
    "import torch.optim as optim  #optimizers "
   ]
  },
  {
   "cell_type": "code",
   "execution_count": 28,
   "id": "73e69d22",
   "metadata": {},
   "outputs": [],
   "source": [
    "x_train = np.array([[0,0], [0,1], [1,0], [1,1]])\n",
    "y_train = np.array([[0], [1], [1], [0]])"
   ]
  },
  {
   "cell_type": "code",
   "execution_count": 29,
   "id": "4dd84bc5",
   "metadata": {},
   "outputs": [],
   "source": [
    "X = torch.tensor(x_train, dtype=torch.float32)\n",
    "y = torch.tensor(y_train, dtype=torch.float32)"
   ]
  },
  {
   "cell_type": "code",
   "execution_count": 30,
   "id": "d4a82caa",
   "metadata": {},
   "outputs": [
    {
     "name": "stdout",
     "output_type": "stream",
     "text": [
      "torch.Size([4, 2]) \n",
      " torch.Size([4, 1])\n"
     ]
    }
   ],
   "source": [
    "print(X.shape , \"\\n\" , Y.shape)"
   ]
  },
  {
   "cell_type": "code",
   "execution_count": 31,
   "id": "1b071524",
   "metadata": {},
   "outputs": [],
   "source": [
    "model = nn.Sequential(\n",
    "    nn.Linear(2, 3),\n",
    "    nn.Sigmoid(),\n",
    "    nn.Linear(3, 1),\n",
    "    nn.Sigmoid())\n"
   ]
  },
  {
   "cell_type": "code",
   "execution_count": 32,
   "id": "c3f4cae3",
   "metadata": {},
   "outputs": [
    {
     "name": "stdout",
     "output_type": "stream",
     "text": [
      "Sequential(\n",
      "  (0): Linear(in_features=2, out_features=3, bias=True)\n",
      "  (1): Sigmoid()\n",
      "  (2): Linear(in_features=3, out_features=1, bias=True)\n",
      "  (3): Sigmoid()\n",
      ")\n"
     ]
    }
   ],
   "source": [
    "print(model)"
   ]
  },
  {
   "cell_type": "code",
   "execution_count": 33,
   "id": "f39f3429",
   "metadata": {},
   "outputs": [
    {
     "name": "stdout",
     "output_type": "stream",
     "text": [
      "XOR(\n",
      "  (hidden1): Linear(in_features=2, out_features=3, bias=True)\n",
      "  (act1): Sigmoid()\n",
      "  (hidden2): Linear(in_features=3, out_features=1, bias=True)\n",
      "  (act2): Sigmoid()\n",
      ")\n"
     ]
    }
   ],
   "source": [
    "#Class usage\n",
    "\n",
    "class XOR(nn.Module):\n",
    "    def __init__(self):\n",
    "        super().__init__()     #parent's class constructor to bootstrap model \n",
    "        self.hidden1 = nn.Linear(2, 3)\n",
    "        self.act1 = nn.Sigmoid()\n",
    "        self.hidden2 = nn.Linear(3, 1)\n",
    "        self.act2 = nn.Sigmoid()\n",
    " \n",
    " \n",
    "    def forward(self, x):     #if input x is provided , then defines forward propogation \n",
    "        x = self.act1(self.hidden1(x))\n",
    "        x = self.act2(self.hidden2(x))\n",
    "        return x\n",
    "    \n",
    "model = XOR()\n",
    " \n",
    "\n",
    "print(model)"
   ]
  },
  {
   "cell_type": "code",
   "execution_count": 34,
   "id": "bd5be58a",
   "metadata": {},
   "outputs": [],
   "source": [
    "loss_fn = nn.MSELoss()  \n",
    "optimizer = optim.Adam(model.parameters(), lr=0.1)"
   ]
  },
  {
   "cell_type": "code",
   "execution_count": 35,
   "id": "d5ccaf1f",
   "metadata": {},
   "outputs": [
    {
     "name": "stdout",
     "output_type": "stream",
     "text": [
      "Finished epoch 0, loss 0.2501432001590729\n",
      "Finished epoch 1, loss 0.25384029746055603\n",
      "Finished epoch 2, loss 0.25022026896476746\n",
      "Finished epoch 3, loss 0.2508142590522766\n",
      "Finished epoch 4, loss 0.25199347734451294\n",
      "Finished epoch 5, loss 0.2514764368534088\n",
      "Finished epoch 6, loss 0.25043436884880066\n",
      "Finished epoch 7, loss 0.24999293684959412\n",
      "Finished epoch 8, loss 0.25032809376716614\n",
      "Finished epoch 9, loss 0.250813752412796\n",
      "Finished epoch 10, loss 0.2508535087108612\n",
      "Finished epoch 11, loss 0.25045764446258545\n",
      "Finished epoch 12, loss 0.25000154972076416\n",
      "Finished epoch 13, loss 0.24979941546916962\n",
      "Finished epoch 14, loss 0.24986369907855988\n",
      "Finished epoch 15, loss 0.24991819262504578\n",
      "Finished epoch 16, loss 0.2496737539768219\n",
      "Finished epoch 17, loss 0.24908661842346191\n",
      "Finished epoch 18, loss 0.24833601713180542\n",
      "Finished epoch 19, loss 0.24761974811553955\n",
      "Finished epoch 20, loss 0.24695998430252075\n",
      "Finished epoch 21, loss 0.24615678191184998\n",
      "Finished epoch 22, loss 0.2449531853199005\n",
      "Finished epoch 23, loss 0.24326492846012115\n",
      "Finished epoch 24, loss 0.24118384718894958\n",
      "Finished epoch 25, loss 0.23881560564041138\n",
      "Finished epoch 26, loss 0.23616760969161987\n",
      "Finished epoch 27, loss 0.2331678420305252\n",
      "Finished epoch 28, loss 0.22975310683250427\n",
      "Finished epoch 29, loss 0.22593358159065247\n",
      "Finished epoch 30, loss 0.22180233895778656\n",
      "Finished epoch 31, loss 0.21750015020370483\n",
      "Finished epoch 32, loss 0.2131645381450653\n",
      "Finished epoch 33, loss 0.20889100432395935\n",
      "Finished epoch 34, loss 0.20471756160259247\n",
      "Finished epoch 35, loss 0.2006358951330185\n",
      "Finished epoch 36, loss 0.1966281533241272\n",
      "Finished epoch 37, loss 0.19271063804626465\n",
      "Finished epoch 38, loss 0.1889481395483017\n",
      "Finished epoch 39, loss 0.18541105091571808\n",
      "Finished epoch 40, loss 0.18211987614631653\n",
      "Finished epoch 41, loss 0.1790461242198944\n",
      "Finished epoch 42, loss 0.17611515522003174\n",
      "Finished epoch 43, loss 0.17320513725280762\n",
      "Finished epoch 44, loss 0.17018075287342072\n",
      "Finished epoch 45, loss 0.1669466197490692\n",
      "Finished epoch 46, loss 0.16347751021385193\n",
      "Finished epoch 47, loss 0.15980881452560425\n",
      "Finished epoch 48, loss 0.15598057210445404\n",
      "Finished epoch 49, loss 0.15193334221839905\n",
      "Finished epoch 50, loss 0.14750050008296967\n",
      "Finished epoch 51, loss 0.14258648455142975\n",
      "Finished epoch 52, loss 0.13722088932991028\n",
      "Finished epoch 53, loss 0.1314643919467926\n",
      "Finished epoch 54, loss 0.12532123923301697\n",
      "Finished epoch 55, loss 0.11876273900270462\n",
      "Finished epoch 56, loss 0.11187522858381271\n",
      "Finished epoch 57, loss 0.10484415292739868\n",
      "Finished epoch 58, loss 0.09774292260408401\n",
      "Finished epoch 59, loss 0.09056976437568665\n",
      "Finished epoch 60, loss 0.08342243731021881\n",
      "Finished epoch 61, loss 0.0764315277338028\n",
      "Finished epoch 62, loss 0.06963729858398438\n",
      "Finished epoch 63, loss 0.06305191665887833\n",
      "Finished epoch 64, loss 0.05677710473537445\n",
      "Finished epoch 65, loss 0.05092576891183853\n",
      "Finished epoch 66, loss 0.04552678018808365\n",
      "Finished epoch 67, loss 0.04057680815458298\n",
      "Finished epoch 68, loss 0.03609275072813034\n",
      "Finished epoch 69, loss 0.03207726404070854\n",
      "Finished epoch 70, loss 0.028491251170635223\n",
      "Finished epoch 71, loss 0.025292212143540382\n",
      "Finished epoch 72, loss 0.022460557520389557\n",
      "Finished epoch 73, loss 0.01997765153646469\n",
      "Finished epoch 74, loss 0.017809400334954262\n",
      "Finished epoch 75, loss 0.015916166827082634\n",
      "Finished epoch 76, loss 0.014264484867453575\n",
      "Finished epoch 77, loss 0.012827214784920216\n",
      "Finished epoch 78, loss 0.011578655801713467\n",
      "Finished epoch 79, loss 0.010492999106645584\n",
      "Finished epoch 80, loss 0.009546153247356415\n",
      "Finished epoch 81, loss 0.008717755787074566\n",
      "Finished epoch 82, loss 0.007991395890712738\n",
      "Finished epoch 83, loss 0.00735374353826046\n",
      "Finished epoch 84, loss 0.006793301086872816\n",
      "Finished epoch 85, loss 0.006299816071987152\n",
      "Finished epoch 86, loss 0.005864051170647144\n",
      "Finished epoch 87, loss 0.005477976519614458\n",
      "Finished epoch 88, loss 0.005134711507707834\n",
      "Finished epoch 89, loss 0.004828512668609619\n",
      "Finished epoch 90, loss 0.004554599057883024\n",
      "Finished epoch 91, loss 0.00430892501026392\n",
      "Finished epoch 92, loss 0.004088018089532852\n",
      "Finished epoch 93, loss 0.0038888456765562296\n",
      "Finished epoch 94, loss 0.003708754200488329\n",
      "Finished epoch 95, loss 0.0035453983582556248\n",
      "Finished epoch 96, loss 0.0033967532217502594\n",
      "Finished epoch 97, loss 0.00326106627471745\n",
      "Finished epoch 98, loss 0.0031368364579975605\n",
      "Finished epoch 99, loss 0.003022790653631091\n"
     ]
    }
   ],
   "source": [
    "n_epochs = 100\n",
    "batch_size = 10\n",
    " \n",
    "for epoch in range(n_epochs):\n",
    "    for i in range(0, len(X), batch_size):\n",
    "        Xbatch = X[i:i+batch_size]\n",
    "        y_pred = model(Xbatch)\n",
    "        ybatch = y[i:i+batch_size]\n",
    "        loss = loss_fn(y_pred, ybatch)\n",
    "        optimizer.zero_grad()\n",
    "        loss.backward()\n",
    "        optimizer.step()\n",
    "    print(f'Finished epoch {epoch}, loss {loss}')"
   ]
  },
  {
   "cell_type": "code",
   "execution_count": 36,
   "id": "0991bde5",
   "metadata": {},
   "outputs": [],
   "source": [
    "y_pred = model(X)  #store predictions"
   ]
  },
  {
   "cell_type": "code",
   "execution_count": 37,
   "id": "80377986",
   "metadata": {},
   "outputs": [
    {
     "data": {
      "text/plain": [
       "tensor([[0.],\n",
       "        [1.],\n",
       "        [1.],\n",
       "        [0.]], grad_fn=<RoundBackward0>)"
      ]
     },
     "execution_count": 37,
     "metadata": {},
     "output_type": "execute_result"
    }
   ],
   "source": [
    "y_pred.round()"
   ]
  },
  {
   "cell_type": "code",
   "execution_count": 38,
   "id": "ff5d89b4",
   "metadata": {},
   "outputs": [
    {
     "data": {
      "text/plain": [
       "array([[0],\n",
       "       [1],\n",
       "       [1],\n",
       "       [0]])"
      ]
     },
     "execution_count": 38,
     "metadata": {},
     "output_type": "execute_result"
    }
   ],
   "source": [
    "y_train"
   ]
  },
  {
   "cell_type": "code",
   "execution_count": null,
   "id": "4dab64f2",
   "metadata": {},
   "outputs": [],
   "source": []
  }
 ],
 "metadata": {
  "kernelspec": {
   "display_name": "Python 3 (ipykernel)",
   "language": "python",
   "name": "python3"
  },
  "language_info": {
   "codemirror_mode": {
    "name": "ipython",
    "version": 3
   },
   "file_extension": ".py",
   "mimetype": "text/x-python",
   "name": "python",
   "nbconvert_exporter": "python",
   "pygments_lexer": "ipython3",
   "version": "3.10.9"
  }
 },
 "nbformat": 4,
 "nbformat_minor": 5
}
